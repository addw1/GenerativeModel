{
 "cells": [
  {
   "cell_type": "code",
   "execution_count": null,
   "id": "0a3b957e-bf76-4fa4-b656-b3fb879c3578",
   "metadata": {},
   "outputs": [],
   "source": [
    "import torch\n",
    "import torch.nn\n",
    "import torch.nn.functional as F\n",
    "class VAE(nn.Module):\n",
    "    def __init__(self, n_in, n_hid, z_dim):\n",
    "        super().__init__()\n",
    "\n",
    "        self.fc1 = nn.Linear(n_in, n_hid)\n",
    "        self.fc21 = nn.Linear(n_hid, z_dim)\n",
    "        self.fc22 = nn.Linear(n_hid, z_dim)\n",
    "        self.fc3 = nn.Linear(z_dim, n_hid)\n",
    "        self.fc4 = nn.Linear(n_hid, n_in)\n",
    "\n",
    "    def encode(self, x, c):\n",
    "        \"\"\"Encoder forward pass.\"\"\"\n",
    "        pass\n",
    "        \n",
    "    def reparameterize(self, mu, logvar):\n",
    "        \"\"\"Implements: z = mu + epsilon*stdev.\"\"\"\n",
    "        pass\n",
    "        \n",
    "    def decode(self, z, c):\n",
    "        \"\"\"Decoder forward pass.\"\"\"\n",
    "        \n",
    "    def forward(self, x, c):\n",
    "        pass\n"
   ]
  },
  {
   "cell_type": "code",
   "execution_count": null,
   "id": "8d954008-510d-4433-9804-616232edabde",
   "metadata": {},
   "outputs": [],
   "source": [
    "from torch.optim import Adam\n",
    "n_in = 784\n",
    "n_hid = 400\n",
    "z_dim = 20\n",
    "learning_rate = 1e-3\n",
    "batch_size = 128"
   ]
  }
 ],
 "metadata": {
  "kernelspec": {
   "display_name": "Python 3 (ipykernel)",
   "language": "python",
   "name": "python3"
  },
  "language_info": {
   "codemirror_mode": {
    "name": "ipython",
    "version": 3
   },
   "file_extension": ".py",
   "mimetype": "text/x-python",
   "name": "python",
   "nbconvert_exporter": "python",
   "pygments_lexer": "ipython3",
   "version": "3.11.9"
  }
 },
 "nbformat": 4,
 "nbformat_minor": 5
}
