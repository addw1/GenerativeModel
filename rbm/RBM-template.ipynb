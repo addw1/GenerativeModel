{
 "cells": [
  {
   "cell_type": "code",
   "execution_count": 1,
   "id": "783f59d1b57855c6",
   "metadata": {
    "ExecuteTime": {
     "end_time": "2023-10-30T19:20:28.046451Z",
     "start_time": "2023-10-30T19:20:20.719139Z"
    }
   },
   "outputs": [],
   "source": [
    "import torch\n",
    "import torch.nn as nn\n",
    "import torch.nn.functional as F\n",
    "import torch.optim\n",
    "import torch.optim as optim\n",
    "\n",
    "import torchvision\n",
    "import torchvision.transforms as transforms\n",
    "from torchvision.utils import make_grid\n",
    "\n",
    "import matplotlib.pyplot as plt\n",
    "import numpy as np\n"
   ]
  },
  {
   "cell_type": "code",
   "execution_count": 2,
   "id": "e1a411c2bcaf026a",
   "metadata": {
    "ExecuteTime": {
     "end_time": "2023-11-11T04:23:50.624736Z",
     "start_time": "2023-11-11T04:23:47.816035Z"
    }
   },
   "outputs": [
    {
     "name": "stdout",
     "output_type": "stream",
     "text": [
      "Files already downloaded and verified\n",
      "Files already downloaded and verified\n"
     ]
    }
   ],
   "source": [
    "device = 'cuda'\n",
    "batch_size = 128\n",
    "transform = transforms.Compose(\n",
    "    [transforms.ToTensor(),\n",
    "     # transforms.Resize(16)\n",
    "    ])\n",
    "\n",
    "train_set = torchvision.datasets.KMNIST(root='./data', train=True, download=True, transform=transform)\n",
    "test_set = torchvision.datasets.KMNIST(root='./data', train=False, download=True, transform=transform)\n",
    "\n",
    "train_loader = torch.utils.data.DataLoader(train_set, batch_size=batch_size, shuffle=True, num_workers=0)\n",
    "test_loader = torch.utils.data.DataLoader(test_set, batch_size=batch_size, shuffle=False, num_workers=0)\n",
    "\n"
   ]
  },
  {
   "cell_type": "code",
   "execution_count": 3,
   "id": "56fd4dd6299b7e4d",
   "metadata": {
    "ExecuteTime": {
     "end_time": "2023-10-31T17:29:57.365885Z",
     "start_time": "2023-10-31T17:29:57.362908Z"
    }
   },
   "outputs": [],
   "source": [
    "# Defining Gaussian-Bernoulli RBM\n",
    "class RBM(nn.Module):\n",
    "    \"\"\"Restricted Boltzmann Machine template.\"\"\"\n",
    "    \n",
    "    def __init__(self, D: int, F: int, k: int):\n",
    "        \"\"\"Creates an instance RBM module.\n",
    "            \n",
    "            Args:\n",
    "                D: Size of the input data.\n",
    "                F: Size of the hidden variable.\n",
    "                k: Number of MCMC iterations for negative sampling.\n",
    "                \n",
    "            The function initializes the weight (W) and biases (c & b).\n",
    "        \"\"\"\n",
    "        super().__init__()\n",
    "        self.W = nn.Parameter(torch.randn(F, D) * 1e-2) # Initialized from Normal(mean=0.0, variance=1e-4)\n",
    "        self.c = nn.Parameter(torch.zeros(D)) # Initialized as 0.0\n",
    "        self.b = nn.Parameter(torch.zeros(F)) # Initilaized as 0.0\n",
    "        self.k = k\n",
    "    \n",
    "    def sample(self, p):\n",
    "        \"\"\"Sample from a bernoulli distribution defined by a given parameter.\"\"\"\n",
    "        pass\n",
    "    \n",
    "    \n",
    "    def sample_gaussian(self, p):\n",
    "        \"\"\"Sample from a bernoulli distribution defined by a given parameter.\"\"\"\n",
    "        pass\n",
    "        \n",
    "    def P_h_x(self, x):\n",
    "        \"\"\"Returns the conditional P(h|x).\"\"\" \n",
    "        pass\n",
    "    \n",
    "    def P_x_h(self, h):\n",
    "        \"\"\"Returns the conditional P(x|h). \"\"\"\n",
    "        pass\n",
    "        \n",
    "    def free_energy(self, x):\n",
    "        \"\"\"Returns the Average F(x) free energy. (Slide 11).\"\"\"\n",
    "        pass\n",
    "        \n",
    "    def forward(self, x):\n",
    "        \"\"\"Generates x_negative using MCMC Gibbs sampling starting from x. \n",
    "        Your CD-k algorithm should be implemented here\"\"\"\n",
    "        \n",
    "        #ADD SOMETHING HERE\n",
    "\n",
    "        \n",
    "        for _ in range(self.k):\n",
    "            # Complete your CD-K here\n",
    "\n",
    "            \n",
    "        return x_negative, pxh_k"
   ]
  },
  {
   "cell_type": "code",
   "execution_count": 4,
   "id": "162d4ad46fbba609",
   "metadata": {
    "ExecuteTime": {
     "end_time": "2023-10-31T17:29:58.257293Z",
     "start_time": "2023-10-31T17:29:58.254056Z"
    }
   },
   "outputs": [],
   "source": [
    "def train(model, device, train_loader, optimizer, epoch):\n",
    "    \n",
    "    train_loss = 0\n",
    "    model.train()\n",
    "    \n",
    "    for batch_idx, (data, target) in enumerate(train_loader):\n",
    "\n",
    "        # flatten and pre-process variable\n",
    "        data = data.view(data.size(0),-1).to(device) \n",
    "        mean, std = data.mean(), data.std()\n",
    "        data = (data - mean)/std\n",
    "        optimizer.zero_grad()\n",
    "        \n",
    "        #################TODO#######################\n",
    "        # positive and netative phase and approximating the loss: -log(p(x))\n",
    "        # Note that the computing of loss_fn can occassionally be negative\n",
    "        # becasue since we used a sampling approach for estimation \n",
    "        # (slide 26)\n",
    "        #############################################\n",
    "        \n",
    "        loss.backward()\n",
    "        optimizer.step()\n",
    "        train_loss += loss.item()\n",
    "        \n",
    "        if (batch_idx+1) % (len(train_loader)//2) == 0:\n",
    "            print('Train({})[{:.0f}%]: Loss: {:.4f}'.format(\n",
    "                epoch, 100. * batch_idx / len(train_loader), train_loss/(batch_idx+1)))\n",
    "\n",
    "def test(model, device, test_loader, epoch):\n",
    "    \n",
    "    model.eval()\n",
    "    test_loss = 0\n",
    "    \n",
    "    with torch.no_grad():\n",
    "        for data, target in test_loader:\n",
    "            data = data.view(data.size(0),-1).to(device)\n",
    "      \n",
    "            mean, std = data.mean(), data.std()\n",
    "            data = (data - mean)/std\n",
    "            #####################FIXME############\n",
    "            #Complete the CD-k process and estimate -log(p(x))\n",
    "            ########################################\n",
    "\n",
    "            test_loss += loss.item() # sum up batch loss\n",
    "    \n",
    "    test_loss = (test_loss*batch_size)/len(test_loader.dataset)\n",
    "    print('Test({}): Loss: {:.4f}'.format(epoch, test_loss))"
   ]
  },
  {
   "cell_type": "code",
   "execution_count": 5,
   "id": "850d6290bba022c",
   "metadata": {
    "ExecuteTime": {
     "end_time": "2023-10-31T17:29:58.697676Z",
     "start_time": "2023-10-31T17:29:58.694311Z"
    }
   },
   "outputs": [],
   "source": [
    "def show(img1, img2):\n",
    "    npimg1 = img1.cpu().numpy()\n",
    "    npimg2 = img2.cpu().numpy()\n",
    "    \n",
    "    fig, axes = plt.subplots(1,2, figsize=(20,10))\n",
    "    axes[0].imshow(np.transpose(npimg1, (1,2,0)), interpolation='nearest')\n",
    "    axes[1].imshow(np.transpose(npimg2, (1,2,0)), interpolation='nearest')\n",
    "    fig.show()"
   ]
  },
  {
   "cell_type": "code",
   "execution_count": null,
   "id": "4c19e0d3b24ba5b8",
   "metadata": {
    "ExecuteTime": {
     "end_time": "2023-10-31T18:51:47.021080Z",
     "start_time": "2023-10-31T18:47:25.779298Z"
    }
   },
   "outputs": [],
   "source": [
    "# Sample Code \n",
    "\n",
    "seed = 42\n",
    "num_epochs = 25\n",
    "torch.manual_seed(seed)\n",
    "torch.cuda.manual_seed(seed)\n",
    "M = [16, 64, 256]\n",
    "\n",
    "rbm = RBM(D=28 * 28 * 1, F=M[0], k=5).to(device)\n",
    "#Keep the lr small to avoid overflow\n",
    "optimizer = optim.Adam(rbm.parameters(), lr=1e-3)\n",
    "print(\"M = {}:\".format(M[0]))\n",
    "for epoch in range(1, num_epochs + 1):\n",
    "    train(rbm, device, train_loader, optimizer, epoch)\n",
    "    test(rbm, device, test_loader, epoch)\n",
    "\n",
    "    # reconstructing samples for plotting\n",
    "    data, _ = next(iter(test_loader))\n",
    "    data = data[:32]\n",
    "    data_size = data.size()\n",
    "    data = data.view(data.size(0), -1).to(device)\n",
    "    mean, std = data.mean(), data.std()\n",
    "    bdata = (data - mean) / std\n",
    "    vh_k, pvh_k = rbm(bdata)\n",
    "    vh_k, pvh_k = vh_k.detach(), pvh_k.detach()\n",
    "    \n",
    "    show(make_grid(data.reshape(data_size), padding=0), make_grid(pvh_k.reshape(data_size).clip(min=0,max=1), padding=0))\n",
    "    plt.show()\n",
    "\n",
    "    print('Optimizer Learning rate: {0:.4f}\\n'.format(optimizer.param_groups[0]['lr']))\n"
   ]
  }
 ],
 "metadata": {
  "kernelspec": {
   "display_name": "Python 3 (ipykernel)",
   "language": "python",
   "name": "python3"
  },
  "language_info": {
   "codemirror_mode": {
    "name": "ipython",
    "version": 3
   },
   "file_extension": ".py",
   "mimetype": "text/x-python",
   "name": "python",
   "nbconvert_exporter": "python",
   "pygments_lexer": "ipython3",
   "version": "3.11.9"
  }
 },
 "nbformat": 4,
 "nbformat_minor": 5
}
